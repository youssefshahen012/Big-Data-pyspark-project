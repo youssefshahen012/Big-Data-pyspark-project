{
  "cells": [
    {
      "cell_type": "code",
      "execution_count": 127,
      "metadata": {
        "id": "1LYa08PdpwWZ"
      },
      "outputs": [],
      "source": [
        "import pyspark\n",
        "from pyspark.sql import SparkSession\n",
        "from pyspark.ml.feature import Imputer, StringIndexer, StandardScaler\n",
        "from pyspark.ml.feature import VectorAssembler\n",
        "from pyspark.ml.regression import LinearRegression\n",
        "import time\n",
        "from pyspark.ml import Pipeline\n",
        "from pyspark.sql.functions import col\n",
        "from pyspark.ml.regression import GeneralizedLinearRegression\n",
        "from pyspark.ml.linalg import Vectors\n",
        "from pyspark.ml.evaluation import RegressionEvaluator\n"
      ]
    },
    {
      "cell_type": "code",
      "execution_count": 105,
      "metadata": {
        "colab": {
          "base_uri": "https://localhost:8080/",
          "height": 219
        },
        "id": "JJkz1r7pqCZJ",
        "outputId": "5a2231fc-66c2-4ee8-b75c-d5c058237872"
      },
      "outputs": [
        {
          "output_type": "execute_result",
          "data": {
            "text/plain": [
              "<pyspark.sql.session.SparkSession at 0x7c9e0fdf5d50>"
            ],
            "text/html": [
              "\n",
              "            <div>\n",
              "                <p><b>SparkSession - in-memory</b></p>\n",
              "                \n",
              "        <div>\n",
              "            <p><b>SparkContext</b></p>\n",
              "\n",
              "            <p><a href=\"http://acdccad27972:4040\">Spark UI</a></p>\n",
              "\n",
              "            <dl>\n",
              "              <dt>Version</dt>\n",
              "                <dd><code>v3.5.1</code></dd>\n",
              "              <dt>Master</dt>\n",
              "                <dd><code>local[*]</code></dd>\n",
              "              <dt>AppName</dt>\n",
              "                <dd><code>Assignment</code></dd>\n",
              "            </dl>\n",
              "        </div>\n",
              "        \n",
              "            </div>\n",
              "        "
            ]
          },
          "metadata": {},
          "execution_count": 105
        }
      ],
      "source": [
        "spark = SparkSession.builder.appName(\"Assignment\").getOrCreate()\n",
        "spark"
      ]
    },
    {
      "cell_type": "code",
      "execution_count": 106,
      "metadata": {
        "id": "u3oIgT7sq07e"
      },
      "outputs": [],
      "source": [
        "df = spark.read.csv('/content/linkedin_job_postings.csv', header = True)"
      ]
    },
    {
      "cell_type": "code",
      "execution_count": 107,
      "metadata": {
        "colab": {
          "base_uri": "https://localhost:8080/"
        },
        "id": "LAw2UlCpq6wk",
        "outputId": "7288e400-1037-4454-cb21-f43d3b519c76"
      },
      "outputs": [
        {
          "output_type": "stream",
          "name": "stdout",
          "text": [
            "+--------------------+--------------------+-----------+-------+---------------+--------------------+--------------------+--------------------+----------+-----------+--------------+--------------------+----------+--------+\n",
            "|            job_link| last_processed_time|got_summary|got_ner|is_being_worked|           job_title|             company|        job_location|first_seen|search_city|search_country|     search_position| job_level|job_type|\n",
            "+--------------------+--------------------+-----------+-------+---------------+--------------------+--------------------+--------------------+----------+-----------+--------------+--------------------+----------+--------+\n",
            "|https://www.linke...|2024-01-21 07:12:...|          t|      t|              f|Account Executive...|                  BD|       San Diego, CA|2024-01-15|   Coronado| United States|         Color Maker|Mid senior|  Onsite|\n",
            "|https://www.linke...|2024-01-21 07:39:...|          t|      t|              f|Registered Nurse ...|   Trinity Health MI|   Norton Shores, MI|2024-01-14|Grand Haven| United States|Director Nursing ...|Mid senior|  Onsite|\n",
            "|https://www.linke...|2024-01-21 07:40:...|          t|      t|              f|RESTAURANT SUPERV...|Wasatch Adaptive ...|           Sandy, UT|2024-01-14|     Tooele| United States|            Stand-In|Mid senior|  Onsite|\n",
            "|https://www.linke...|2024-01-21 07:40:...|          t|      t|              f|Independent Real ...|Howard Hanna | Ra...|Englewood Cliffs, NJ|2024-01-16|  Pinehurst| United States|   Real-Estate Clerk|Mid senior|  Onsite|\n",
            "|https://www.linke...|2024-01-19 09:45:...|          f|      f|              f|Group/Unit Superv...|IRS, Office of Ch...|        Chamblee, GA|2024-01-17|    Gadsden| United States|Supervisor Travel...|Mid senior|  Onsite|\n",
            "+--------------------+--------------------+-----------+-------+---------------+--------------------+--------------------+--------------------+----------+-----------+--------------+--------------------+----------+--------+\n",
            "only showing top 5 rows\n",
            "\n"
          ]
        }
      ],
      "source": [
        "df.show(5)"
      ]
    },
    {
      "cell_type": "code",
      "source": [
        "df.printSchema()"
      ],
      "metadata": {
        "colab": {
          "base_uri": "https://localhost:8080/"
        },
        "id": "7EGDzVy7J0ks",
        "outputId": "24e8d404-a24f-4779-e948-786ed37750a9"
      },
      "execution_count": 108,
      "outputs": [
        {
          "output_type": "stream",
          "name": "stdout",
          "text": [
            "root\n",
            " |-- job_link: string (nullable = true)\n",
            " |-- last_processed_time: string (nullable = true)\n",
            " |-- got_summary: string (nullable = true)\n",
            " |-- got_ner: string (nullable = true)\n",
            " |-- is_being_worked: string (nullable = true)\n",
            " |-- job_title: string (nullable = true)\n",
            " |-- company: string (nullable = true)\n",
            " |-- job_location: string (nullable = true)\n",
            " |-- first_seen: string (nullable = true)\n",
            " |-- search_city: string (nullable = true)\n",
            " |-- search_country: string (nullable = true)\n",
            " |-- search_position: string (nullable = true)\n",
            " |-- job_level: string (nullable = true)\n",
            " |-- job_type: string (nullable = true)\n",
            "\n"
          ]
        }
      ]
    },
    {
      "cell_type": "code",
      "source": [
        "columns_to_remove = ['job_link', 'last_processed_time', 'job_title', 'company', 'job_location', 'first_seen', 'search_city', 'search_position']\n",
        "\n",
        "# Remove the specified columns\n",
        "df = df.drop(*columns_to_remove)\n",
        "\n",
        "# Display the cleaned DataFrame\n",
        "print(df)\n"
      ],
      "metadata": {
        "colab": {
          "base_uri": "https://localhost:8080/"
        },
        "id": "LUz3C3FiN0_B",
        "outputId": "3130f3ad-2074-4173-8bfc-df649f934c87"
      },
      "execution_count": 109,
      "outputs": [
        {
          "output_type": "stream",
          "name": "stdout",
          "text": [
            "DataFrame[got_summary: string, got_ner: string, is_being_worked: string, search_country: string, job_level: string, job_type: string]\n"
          ]
        }
      ]
    },
    {
      "cell_type": "code",
      "source": [
        "df.show(5)"
      ],
      "metadata": {
        "colab": {
          "base_uri": "https://localhost:8080/"
        },
        "id": "6HeCszPNO2qB",
        "outputId": "7014bed9-d1b6-454d-fedb-aa8f28a834a9"
      },
      "execution_count": 110,
      "outputs": [
        {
          "output_type": "stream",
          "name": "stdout",
          "text": [
            "+-----------+-------+---------------+--------------+----------+--------+\n",
            "|got_summary|got_ner|is_being_worked|search_country| job_level|job_type|\n",
            "+-----------+-------+---------------+--------------+----------+--------+\n",
            "|          t|      t|              f| United States|Mid senior|  Onsite|\n",
            "|          t|      t|              f| United States|Mid senior|  Onsite|\n",
            "|          t|      t|              f| United States|Mid senior|  Onsite|\n",
            "|          t|      t|              f| United States|Mid senior|  Onsite|\n",
            "|          f|      f|              f| United States|Mid senior|  Onsite|\n",
            "+-----------+-------+---------------+--------------+----------+--------+\n",
            "only showing top 5 rows\n",
            "\n"
          ]
        }
      ]
    },
    {
      "cell_type": "code",
      "source": [
        "for column in df.columns:\n",
        "    unique_values = df.select(column).distinct().collect()\n",
        "    unique_values_list = [row[column] for row in unique_values]\n",
        "    print(f\"Unique values for column '{column}': {unique_values_list}\")"
      ],
      "metadata": {
        "colab": {
          "base_uri": "https://localhost:8080/"
        },
        "id": "oIPLBsGwO5nt",
        "outputId": "aa730a6d-0d65-47d2-a74e-65e37df8ffdc"
      },
      "execution_count": 111,
      "outputs": [
        {
          "output_type": "stream",
          "name": "stdout",
          "text": [
            "Unique values for column 'got_summary': ['Oldbury, England, United Kingdom', 'Portsmouth, England, United Kingdom', 'f', 'London, England, United Kingdom', 'Newcastle upon Tyne, England, United Kingdom', 'Sunningdale, England, United Kingdom', 't', 'Thames Ditton, England, United Kingdom', 'Reading, England, United Kingdom', 'Milton Keynes, England, United Kingdom', 'Lincoln, England, United Kingdom', 'Borehamwood, England, United Kingdom', 'Coventry, England, United Kingdom', 'Madison, WI', 'Gateshead, England, United Kingdom', 'Bicester, England, United Kingdom', 'Tunbridge Wells, England, United Kingdom', 'Bromley, England, United Kingdom', 'Torbay, Newfoundland and Labrador, Canada', 'Heathrow, FL', 'Huddersfield, England, United Kingdom', 'Lebanon, IL']\n",
            "Unique values for column 'got_ner': ['2024-01-13', 'f', '2024-01-12', '2024-01-15', 't', '2024-01-14', '2024-01-16']\n",
            "Unique values for column 'is_being_worked': ['Worcester', 'Slough', 'f', 'High Wycombe', 'South Hampshire', 't', 'Tyneside', 'Greater London', 'Hastings', 'Lincoln', 'Windsor', 'Northampton', 'Oxford', 'Sarnia-Clearwater', 'Burnley', 'Telford', 'Maidstone', 'Milton Keynes', 'Basildon', 'Orlando', 'Collinsville']\n",
            "Unique values for column 'search_country': ['2024-01-13', 'Oceanside', 'Alexandria', 'Fayetteville', 'United States', 'Clinical Therapist', 'Canada', 'Australia', 'United Kingdom', 'Hollywood', 'Fort Walton Beach', 'North Chicago', 'Beverly', 'Arkansas', 'Nashville', 'Columbus', 'Garland', 'Glendale', 'Akron', 'Irvington', 'Layton', 'Pittsfield', 'Chandler', '2024-01-16', 'Nanticoke', 'Tarrytown', None]\n",
            "Unique values for column 'job_level': ['Onsite', 'Associate', 'Chief Computer Programmer', 'Mid senior', 'Job Development Specialist', 'Inspector', 'Canada', 'Assembler', 'Medical Physicist', 'Lawyer', 'Budget Analyst', 'Order Runner', 'Architect', 'Nurse Assistant', 'Nurse Infection Control', 'Microbiologist', \"Model Artists'\", 'Color Developer', 'Administrative Assistant', 'Magazine Supervisor', 'United States', 'Investment Analyst', 'Documentation Supervisor', None]\n",
            "Unique values for column 'job_type': ['Remote', 'Onsite', 'Driver', 'Hybrid', 'Mid senior', 'Associate', 'Radiation-Therapy Technologist', None]\n"
          ]
        }
      ]
    },
    {
      "cell_type": "code",
      "source": [
        "indexed_df = indexed_df.na.drop()"
      ],
      "metadata": {
        "id": "5Ne5u5VVarE9"
      },
      "execution_count": 112,
      "outputs": []
    },
    {
      "cell_type": "code",
      "source": [
        "indexed_df = df\n",
        "for column in df.columns:\n",
        "    indexer = StringIndexer(inputCol=column, outputCol=column+\"_indexed\",handleInvalid=\"skip\")\n",
        "    indexed_df = indexer.fit(indexed_df).transform(indexed_df)\n"
      ],
      "metadata": {
        "id": "-V5aBD3yPCpI"
      },
      "execution_count": 119,
      "outputs": []
    },
    {
      "cell_type": "code",
      "source": [
        "indexed_df.printSchema()\n",
        "indexed_df.show(5)\n"
      ],
      "metadata": {
        "colab": {
          "base_uri": "https://localhost:8080/"
        },
        "id": "QSUWmfOoQu41",
        "outputId": "1666f5ca-6a1f-46e5-98dd-13bfad59d44c"
      },
      "execution_count": 120,
      "outputs": [
        {
          "output_type": "stream",
          "name": "stdout",
          "text": [
            "root\n",
            " |-- got_summary: string (nullable = true)\n",
            " |-- got_ner: string (nullable = true)\n",
            " |-- is_being_worked: string (nullable = true)\n",
            " |-- search_country: string (nullable = true)\n",
            " |-- job_level: string (nullable = true)\n",
            " |-- job_type: string (nullable = true)\n",
            " |-- got_summary_indexed: double (nullable = false)\n",
            " |-- got_ner_indexed: double (nullable = false)\n",
            " |-- is_being_worked_indexed: double (nullable = false)\n",
            " |-- search_country_indexed: double (nullable = false)\n",
            " |-- job_level_indexed: double (nullable = false)\n",
            " |-- job_type_indexed: double (nullable = false)\n",
            "\n",
            "+-----------+-------+---------------+--------------+----------+--------+-------------------+---------------+-----------------------+----------------------+-----------------+----------------+\n",
            "|got_summary|got_ner|is_being_worked|search_country| job_level|job_type|got_summary_indexed|got_ner_indexed|is_being_worked_indexed|search_country_indexed|job_level_indexed|job_type_indexed|\n",
            "+-----------+-------+---------------+--------------+----------+--------+-------------------+---------------+-----------------------+----------------------+-----------------+----------------+\n",
            "|          t|      t|              f| United States|Mid senior|  Onsite|                0.0|            0.0|                    0.0|                   0.0|              0.0|             0.0|\n",
            "|          t|      t|              f| United States|Mid senior|  Onsite|                0.0|            0.0|                    0.0|                   0.0|              0.0|             0.0|\n",
            "|          t|      t|              f| United States|Mid senior|  Onsite|                0.0|            0.0|                    0.0|                   0.0|              0.0|             0.0|\n",
            "|          t|      t|              f| United States|Mid senior|  Onsite|                0.0|            0.0|                    0.0|                   0.0|              0.0|             0.0|\n",
            "|          f|      f|              f| United States|Mid senior|  Onsite|                1.0|            1.0|                    0.0|                   0.0|              0.0|             0.0|\n",
            "+-----------+-------+---------------+--------------+----------+--------+-------------------+---------------+-----------------------+----------------------+-----------------+----------------+\n",
            "only showing top 5 rows\n",
            "\n"
          ]
        }
      ]
    },
    {
      "cell_type": "code",
      "source": [
        "dependent_variable = indexed_df['job_type_indexed']"
      ],
      "metadata": {
        "id": "La8urzA0Q9Es"
      },
      "execution_count": 121,
      "outputs": []
    },
    {
      "cell_type": "code",
      "source": [
        "independent_variables = indexed_df[['got_summary_indexed', 'got_ner_indexed', 'is_being_worked_indexed', 'search_country_indexed', 'job_level_indexed']]\n"
      ],
      "metadata": {
        "id": "j93X8ppRRI8k"
      },
      "execution_count": 122,
      "outputs": []
    },
    {
      "cell_type": "code",
      "source": [
        "assembler = VectorAssembler(inputCols=independent_variables.columns, outputCol=\"features\")\n",
        "df_assembled = assembler.transform(indexed_df)"
      ],
      "metadata": {
        "id": "3fHQQLsgRqj5"
      },
      "execution_count": 123,
      "outputs": []
    },
    {
      "cell_type": "code",
      "source": [
        "df_assembled.printSchema()"
      ],
      "metadata": {
        "colab": {
          "base_uri": "https://localhost:8080/"
        },
        "id": "4ceMhQ8JVYZk",
        "outputId": "95993f30-70b1-47b0-fc20-481b62808218"
      },
      "execution_count": 124,
      "outputs": [
        {
          "output_type": "stream",
          "name": "stdout",
          "text": [
            "root\n",
            " |-- got_summary: string (nullable = true)\n",
            " |-- got_ner: string (nullable = true)\n",
            " |-- is_being_worked: string (nullable = true)\n",
            " |-- search_country: string (nullable = true)\n",
            " |-- job_level: string (nullable = true)\n",
            " |-- job_type: string (nullable = true)\n",
            " |-- got_summary_indexed: double (nullable = false)\n",
            " |-- got_ner_indexed: double (nullable = false)\n",
            " |-- is_being_worked_indexed: double (nullable = false)\n",
            " |-- search_country_indexed: double (nullable = false)\n",
            " |-- job_level_indexed: double (nullable = false)\n",
            " |-- job_type_indexed: double (nullable = false)\n",
            " |-- features: vector (nullable = true)\n",
            "\n"
          ]
        }
      ]
    },
    {
      "cell_type": "code",
      "source": [
        "train_data, test_data = df_assembled.randomSplit([0.8, 0.2], seed=123)"
      ],
      "metadata": {
        "id": "XUuh5TEH5cPF"
      },
      "execution_count": 128,
      "outputs": []
    },
    {
      "cell_type": "code",
      "source": [
        "lr = LinearRegression(featuresCol='features', labelCol='job_type_indexed')\n",
        "lr_model = lr.fit(df_assembled)"
      ],
      "metadata": {
        "id": "LrCwlBcaS77i"
      },
      "execution_count": 129,
      "outputs": []
    },
    {
      "cell_type": "code",
      "source": [
        "predictions = lr_model.transform(test_data)"
      ],
      "metadata": {
        "id": "PRWzrRmc5grl"
      },
      "execution_count": 130,
      "outputs": []
    },
    {
      "cell_type": "code",
      "source": [
        "evaluator = RegressionEvaluator(labelCol=\"job_type_indexed\", predictionCol=\"prediction\", metricName=\"mse\")\n",
        "mse = evaluator.evaluate(predictions)"
      ],
      "metadata": {
        "id": "fJYvlNz753hq"
      },
      "execution_count": 131,
      "outputs": []
    },
    {
      "cell_type": "code",
      "source": [
        "print(\"Mean Squared Error (MSE) on test data = %g\" % mse)"
      ],
      "metadata": {
        "colab": {
          "base_uri": "https://localhost:8080/"
        },
        "id": "m2MhLitk6GAW",
        "outputId": "8f860cdf-a391-4bcf-cabb-6cd8b3b5e98a"
      },
      "execution_count": 132,
      "outputs": [
        {
          "output_type": "stream",
          "name": "stdout",
          "text": [
            "Mean Squared Error (MSE) on test data = 0.0177591\n"
          ]
        }
      ]
    },
    {
      "cell_type": "code",
      "source": [
        "from pyspark.ml.regression import GeneralizedLinearRegression\n",
        "from pyspark.ml.linalg import Vectors\n",
        "glr = GeneralizedLinearRegression(family=\"poisson\", link=\"log\", featuresCol=\"features\", labelCol=\"job_type_indexed\")\n",
        "model = glr.fit(df_assembled)"
      ],
      "metadata": {
        "id": "huq58qZZTU-4"
      },
      "execution_count": 126,
      "outputs": []
    },
    {
      "cell_type": "code",
      "source": [
        "pred = model.transform(test_data)"
      ],
      "metadata": {
        "id": "ost4hRxP6BL-"
      },
      "execution_count": 137,
      "outputs": []
    },
    {
      "cell_type": "code",
      "source": [
        "evaluator = RegressionEvaluator(labelCol=\"job_type_indexed\", predictionCol=\"prediction\", metricName=\"mse\")\n",
        "mse = evaluator.evaluate(pred)"
      ],
      "metadata": {
        "id": "15dERPKc6ZKi"
      },
      "execution_count": 139,
      "outputs": []
    },
    {
      "cell_type": "code",
      "source": [
        "print(\"Mean Squared Error (MSE) on test data = %g\" % mse)"
      ],
      "metadata": {
        "colab": {
          "base_uri": "https://localhost:8080/"
        },
        "id": "F-T2Nkne7BmT",
        "outputId": "0df64b3d-4f31-48d4-a4fc-efe4836735b2"
      },
      "execution_count": 140,
      "outputs": [
        {
          "output_type": "stream",
          "name": "stdout",
          "text": [
            "Mean Squared Error (MSE) on test data = 0.0201486\n"
          ]
        }
      ]
    }
  ],
  "metadata": {
    "colab": {
      "provenance": []
    },
    "kernelspec": {
      "display_name": "Python 3",
      "name": "python3"
    },
    "language_info": {
      "name": "python"
    }
  },
  "nbformat": 4,
  "nbformat_minor": 0
}